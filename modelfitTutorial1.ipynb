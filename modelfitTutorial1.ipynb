{
 "cells": [
  {
   "cell_type": "markdown",
   "id": "46b7e38b",
   "metadata": {},
   "source": [
    "Here we show some examples that how to fit a simple model"
   ]
  },
  {
   "cell_type": "code",
   "execution_count": 1,
   "id": "b2ce3b08",
   "metadata": {},
   "outputs": [],
   "source": [
    "from fit import fit, fit_parallel, fit_bms\n",
    "import numpy as np\n",
    "from scipy.stats import norm\n",
    "import pandas as pd\n",
    "import seaborn as sns\n",
    "%matplotlib inline\n",
    "\n",
    "eps = np.finfo(np.float32).eps"
   ]
  },
  {
   "cell_type": "code",
   "execution_count": 2,
   "id": "10912623",
   "metadata": {},
   "outputs": [],
   "source": [
    "# linear regression\n",
    "a = 2\n",
    "b = 1\n",
    "noise = 5\n",
    "\n",
    "def generatedata_linear(a,b,noise):\n",
    "    x = np.arange(1,100,1)\n",
    "    y = a * x + b + noise * np.random.rand(x.size)\n",
    "    return {'x':x, 'y':y}"
   ]
  },
  {
   "cell_type": "markdown",
   "id": "ee443f18",
   "metadata": {},
   "source": [
    "To define a loss function (e.g., negative loglikelihood function), we set three inputs: params (1st), data (2nd), and priors (3rd)."
   ]
  },
  {
   "cell_type": "code",
   "execution_count": 3,
   "id": "41efb18f",
   "metadata": {},
   "outputs": [],
   "source": [
    "# note that the parameter should always be the 1st input here\n",
    "def nll(params, data, p_priors):\n",
    "    x = data['x']    \n",
    "    a = params[0]\n",
    "    b = params[1]\n",
    "    predict_y = a*x+b\n",
    "\n",
    "    pp = norm.pdf(data['y'], loc=predict_y, scale=noise)\n",
    "    # to avoid nan\n",
    "    pp = 0.999*pp + eps\n",
    "    if p_priors: # for now we ignore prior\n",
    "        pass\n",
    "    return -np.log(pp).sum()"
   ]
  },
  {
   "cell_type": "code",
   "execution_count": 5,
   "id": "6994e989",
   "metadata": {},
   "outputs": [
    {
     "data": {
      "text/plain": [
       "{'log_post': np.float64(-254.3302523776359),\n",
       " 'log_like': np.float64(-254.3302523776359),\n",
       " 'param': array([1.99522655, 3.73759804]),\n",
       " 'param_name': ['x', 'y'],\n",
       " 'n_param': 2,\n",
       " 'aic': np.float64(512.6605047552719),\n",
       " 'bic': np.float64(519.2370388166609),\n",
       " 'H': array([[1.31297123e+04, 1.97775873e+02],\n",
       "        [1.97775873e+02, 3.96385413e+00]]),\n",
       " 'H_inv': array([[ 3.06587038e-04, -1.52971117e-02],\n",
       "        [-1.52971117e-02,  1.01552668e+00]])}"
      ]
     },
     "execution_count": 5,
     "metadata": {},
     "output_type": "execute_result"
    }
   ],
   "source": [
    "data = generatedata_linear(a, b, noise)\n",
    "# define prior\n",
    "p_priors = [norm(loc=1, scale=10), norm(loc=1, scale=10)]\n",
    "# perform a single fit\n",
    "fit(nll, data, bnds=[(0.1, 5), (0.1, 5)], pbnds=[(0.1, 5), (0.1, 5)], p_name=list(data.keys()), p_priors=p_priors, method='map', alg='BFGS')"
   ]
  },
  {
   "cell_type": "code",
   "execution_count": 9,
   "id": "a21e2ef3",
   "metadata": {},
   "outputs": [
    {
     "name": "stdout",
     "output_type": "stream",
     "text": [
      "\tNum of lowest loss: 40/40\n"
     ]
    },
    {
     "data": {
      "text/plain": [
       "{'log_post': np.float64(-254.3302523776357),\n",
       " 'log_like': np.float64(-254.3302523776357),\n",
       " 'param': array([1.99522657, 3.73759708]),\n",
       " 'param_name': ['x', 'y'],\n",
       " 'n_param': 2,\n",
       " 'aic': np.float64(512.6605047552714),\n",
       " 'bic': np.float64(519.2370388166605),\n",
       " 'H': array([[1.31368557e+04, 1.98042701e+02],\n",
       "        [1.98042701e+02, 3.96063691e+00]]),\n",
       " 'H_inv': array([[ 3.09197596e-04, -1.54607273e-02],\n",
       "        [-1.54607273e-02,  1.02556338e+00]])}"
      ]
     },
     "execution_count": 9,
     "metadata": {},
     "output_type": "execute_result"
    }
   ],
   "source": [
    "from pathos import multiprocessing # recommand pathos\n",
    "\n",
    "pool = multiprocessing.Pool(2)\n",
    "# fit the same subject multiple times\n",
    "fit_parallel(pool, nll, data, bnds=[(0.1, 5), (0.1, 5)], pbnds=[(0.1, 5), (0.1, 5)], p_name=list(data.keys()), p_priors=p_priors, method='map', alg='BFGS', n_fits=40)    "
   ]
  },
  {
   "cell_type": "markdown",
   "id": "82ca60f7",
   "metadata": {},
   "source": [
    "# model comparison\n",
    "\n",
    "Define another model and simulate multiple subjects. To showcase how to use AIC/BIC/PXP"
   ]
  },
  {
   "cell_type": "code",
   "execution_count": 10,
   "id": "8d49bdc2",
   "metadata": {},
   "outputs": [
    {
     "name": "stdout",
     "output_type": "stream",
     "text": [
      "\tNum of lowest loss: 40/40\n",
      "\tNum of lowest loss: 40/40\n",
      "\tNum of lowest loss: 40/40\n",
      "\tNum of lowest loss: 40/40\n",
      "\tNum of lowest loss: 40/40\n",
      "\tNum of lowest loss: 40/40\n",
      "\tNum of lowest loss: 40/40\n",
      "\tNum of lowest loss: 40/40\n",
      "\tNum of lowest loss: 40/40\n",
      "\tNum of lowest loss: 40/40\n"
     ]
    }
   ],
   "source": [
    "nSubject = 10\n",
    "subj_name = [f'subj{i:02d}' for i in range(nSubject)]\n",
    "\n",
    "# linear regression\n",
    "a1 = np.random.rand(nSubject) + 2\n",
    "b1 = np.random.rand(nSubject) + 1\n",
    "# simulate data\n",
    "data_linear = [generatedata_linear(a,b, noise) for (a,b) in zip(a1,b1)]\n",
    "\n",
    "p_priors = [norm(loc=2, scale=10), norm(loc=1, scale=10)]\n",
    "fit_results = [fit_parallel(pool, nll, dd, bnds=[(0.1, 5), (0.1, 5)], pbnds=[(0.1, 5), (0.1, 5)], p_name=list(dd.keys()), p_priors=p_priors, method='mle', alg='BFGS', n_fits=40) for dd in data_linear]\n",
    "\n",
    "\n",
    "fit_linear = dict(zip(subj_name, fit_results))"
   ]
  },
  {
   "cell_type": "code",
   "execution_count": 11,
   "id": "b89fb14f",
   "metadata": {},
   "outputs": [
    {
     "name": "stdout",
     "output_type": "stream",
     "text": [
      "\tNum of lowest loss: 1/40\n",
      "\tNum of lowest loss: 7/40\n",
      "\tNum of lowest loss: 2/40\n",
      "\tNum of lowest loss: 3/40\n",
      "\tNum of lowest loss: 1/40\n",
      "\tNum of lowest loss: 1/40\n",
      "\tNum of lowest loss: 1/40\n",
      "\tNum of lowest loss: 1/40\n",
      "\tNum of lowest loss: 1/40\n",
      "\tNum of lowest loss: 1/40\n"
     ]
    }
   ],
   "source": [
    "# 3-order polynomial fit\n",
    "# note that the parameter should always be the 1st input here\n",
    "def nll_poly(params, data, p_priors):\n",
    "    x = data['x']    \n",
    "    a = params[0]\n",
    "    b = params[1]\n",
    "    c = params[2]\n",
    "    predict_y = a*x**x + b*x + c\n",
    "\n",
    "    pp = norm.pdf(data['y'], loc=predict_y, scale=noise)\n",
    "    # to avoid nan\n",
    "    pp = 0.999*pp + eps\n",
    "    if p_priors: # for now we ignore prior\n",
    "        pass\n",
    "    return -np.log(pp).sum()\n",
    "    \n",
    "\n",
    "p_priors = [norm(loc=2, scale=10), norm(loc=1, scale=10), norm(loc=5, scale=10)]\n",
    "fit_results = [fit_parallel(pool, nll_poly, dd, bnds=[(0.1, 10), (0.1, 10), (0.1, 10)], pbnds=[(0.1, 10), (0.1, 10), (0.1, 10)], p_name=list(dd.keys()), p_priors=p_priors, method='mle', alg='BFGS', n_fits=40) for dd in data_linear] # 我们这里fit data_linear\n",
    "\n",
    "fit_poly = dict(zip(subj_name, fit_results))"
   ]
  },
  {
   "cell_type": "markdown",
   "id": "f5adca49",
   "metadata": {},
   "source": [
    "# Visualize bayesian model selection (pxp) "
   ]
  },
  {
   "cell_type": "code",
   "execution_count": 12,
   "id": "048bf783",
   "metadata": {},
   "outputs": [
    {
     "data": {
      "image/png": "[encoded data removed]",
      "text/plain": [
       "<Figure size 300x400 with 1 Axes>"
      ]
     },
     "metadata": {},
     "output_type": "display_data"
    }
   ],
   "source": [
    "models = ['linear', 'poly']\n",
    "bic_linear = [fit_linear[i]['bic'] for i in fit_linear.keys()]\n",
    "bic_poly = [fit_poly[i]['bic'] for i in fit_poly.keys()]\n",
    "\n",
    "all_subj_info = [{'bic':bic_linear}, {'bic':bic_poly}]\n",
    "\n",
    "bms_results = fit_bms(all_subj_info, use_bic=True)\n",
    "pxp = pd.DataFrame.from_dict({'pxp': bms_results['pxp'], 'model': models})\n",
    "\n",
    "# visualize pxp results\n",
    "plt.figure(figsize=(3,4))\n",
    "sns.barplot(data=pxp, x='model',y='pxp')\n",
    "plt.show()"
   ]
  },
  {
   "cell_type": "markdown",
   "id": "dcc19a02",
   "metadata": {},
   "source": [
    "# Visualize AIC/BIC"
   ]
  },
  {
   "cell_type": "code",
   "execution_count": 13,
   "id": "88b067c8",
   "metadata": {},
   "outputs": [],
   "source": [
    "models = ['linear', 'poly'] # we put the best model at the first\n",
    "bestModel = 'linear' # if we know the best model\n",
    "\n",
    "cols = ['NLL', 'AIC', 'BIC', 'model', 'sub_id']\n",
    "llh_results = {k: [] for k in cols}\n",
    "fit_info = [fit_linear, fit_poly]\n",
    "for m,f in zip(models, fit_info):    \n",
    "    nll = [-f[idx]['log_like'] for idx in subj_name]\n",
    "    aic = [f[idx]['aic'] for idx in subj_name]\n",
    "    bic = [f[idx]['bic'] for idx in subj_name]\n",
    "    llh_results['NLL'] += nll\n",
    "    llh_results['AIC'] += aic\n",
    "    llh_results['BIC'] += bic\n",
    "    llh_results['model'] += [m]*len(nll)\n",
    "    llh_results['sub_id'] += list(subj_name)\n",
    "\n",
    "llh_results = pd.DataFrame.from_dict(llh_results)\n",
    "\n",
    "# Important here\n",
    "# We typically plot the delta NLL, AIC, BIC as compared to the best model\n",
    "for c in ['NLL', 'BIC', 'AIC']:\n",
    "    tar_crs = len(models)*list(llh_results.query(f'model==\"{bestModel}\"')[c].values)\n",
    "    subtrack = tar_crs\n",
    "    llh_results[c] -= subtrack "
   ]
  },
  {
   "cell_type": "code",
   "execution_count": 14,
   "id": "dcf5cd60",
   "metadata": {},
   "outputs": [
    {
     "data": {
      "image/png": "[encoded data removed]",
      "text/plain": [
       "<Figure size 1000x300 with 3 Axes>"
      ]
     },
     "metadata": {},
     "output_type": "display_data"
    }
   ],
   "source": [
    "from sciviz import sciviz as viz\n",
    "# Now visualize\n",
    "fig, ax = plt.subplots(1, 3, figsize=(10,3))\n",
    "plt.sca(ax[0])\n",
    "plt.ylim([-100,1000])\n",
    "viz.violin(ax[0], data = llh_results, x = 'model', y='NLL', order=models, palette=viz.greenPairs, scatter_size=5)\n",
    "\n",
    "plt.sca(ax[1])\n",
    "plt.ylim([-100,2000])\n",
    "viz.violin(ax[1], data = llh_results, x = 'model', y='AIC', order=models, palette=viz.greenPairs, scatter_size=5)\n",
    "\n",
    "plt.sca(ax[2])\n",
    "plt.ylim([-100,2000])\n",
    "viz.violin(ax[2], data = llh_results, x = 'model', y='BIC', order=models, palette=viz.greenPairs,scatter_size=5)\n",
    "\n",
    "plt.show()"
   ]
  },
  {
   "cell_type": "code",
   "execution_count": null,
   "id": "6bec12bc",
   "metadata": {},
   "outputs": [],
   "source": []
  }
 ],
 "metadata": {
  "kernelspec": {
   "display_name": "base",
   "language": "python",
   "name": "python3"
  },
  "language_info": {
   "codemirror_mode": {
    "name": "ipython",
    "version": 3
   },
   "file_extension": ".py",
   "mimetype": "text/x-python",
   "name": "python",
   "nbconvert_exporter": "python",
   "pygments_lexer": "ipython3",
   "version": "3.13.2"
  }
 },
 "nbformat": 4,
 "nbformat_minor": 5
}
